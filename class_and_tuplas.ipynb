{
  "nbformat": 4,
  "nbformat_minor": 0,
  "metadata": {
    "colab": {
      "name": "class_and_tuplas.ipynb",
      "provenance": [],
      "collapsed_sections": [],
      "authorship_tag": "ABX9TyPjnia36sgsEkKVgB4T1C1Y",
      "include_colab_link": true
    },
    "kernelspec": {
      "name": "python3",
      "display_name": "Python 3"
    },
    "language_info": {
      "name": "python"
    }
  },
  "cells": [
    {
      "cell_type": "markdown",
      "metadata": {
        "id": "view-in-github",
        "colab_type": "text"
      },
      "source": [
        "<a href=\"https://colab.research.google.com/github/declau/collections-colab/blob/main/class_and_tuplas.ipynb\" target=\"_parent\"><img src=\"https://colab.research.google.com/assets/colab-badge.svg\" alt=\"Open In Colab\"/></a>"
      ]
    },
    {
      "cell_type": "code",
      "execution_count": null,
      "metadata": {
        "id": "-qBDm6dGrFml"
      },
      "outputs": [],
      "source": [
        ""
      ]
    },
    {
      "cell_type": "markdown",
      "source": [
        "**Objetos próprios **\n"
      ],
      "metadata": {
        "id": "CtiinGSbrOv_"
      }
    },
    {
      "cell_type": "code",
      "source": [
        "class ContaCorrente():\n",
        "  def __init__(self, codigo):\n",
        "    self.codigo = codigo\n",
        "    self.saldo = 0\n",
        "\n",
        "  def deposita(self, valor):\n",
        "    self.saldo += valor\n",
        "  \n",
        "  def __str__(self):\n",
        "    return f\"[>> codigo {self.codigo}, saldo {self.saldo} <<]\""
      ],
      "metadata": {
        "id": "AjuIGFnTrjkF"
      },
      "execution_count": 2,
      "outputs": []
    },
    {
      "cell_type": "code",
      "source": [
        "conta_dec = ContaCorrente(1234)\n",
        "print(conta_dec)"
      ],
      "metadata": {
        "colab": {
          "base_uri": "https://localhost:8080/"
        },
        "id": "p6U3SQ2Ms_ii",
        "outputId": "bb5d699c-16d2-41bd-8c6e-588d7fa006f0"
      },
      "execution_count": 3,
      "outputs": [
        {
          "output_type": "stream",
          "name": "stdout",
          "text": [
            "[>>codigo 1234, saldo 0<<]\n"
          ]
        }
      ]
    },
    {
      "cell_type": "code",
      "source": [
        "conta_dec.deposita(500)\n",
        "print(conta_dec)"
      ],
      "metadata": {
        "colab": {
          "base_uri": "https://localhost:8080/"
        },
        "id": "KhP7jiQQtQY6",
        "outputId": "f7f9afdf-241a-4b49-bb67-71b42f1ec55e"
      },
      "execution_count": 4,
      "outputs": [
        {
          "output_type": "stream",
          "name": "stdout",
          "text": [
            "[>>codigo 1234, saldo 500<<]\n"
          ]
        }
      ]
    },
    {
      "cell_type": "code",
      "source": [
        "conta_shay = ContaCorrente(4321)\n",
        "conta_shay.deposita(1000)\n",
        "contas = [conta_shay, conta_dec]\n",
        "print(contas)\n",
        "\n",
        "for conta in contas:\n",
        "  print(conta)"
      ],
      "metadata": {
        "colab": {
          "base_uri": "https://localhost:8080/"
        },
        "id": "14hiI1KAtwUK",
        "outputId": "c2f70ea3-9dad-4767-aa6d-be120924a527"
      },
      "execution_count": 7,
      "outputs": [
        {
          "output_type": "stream",
          "name": "stdout",
          "text": [
            "[<__main__.ContaCorrente object at 0x7fc28ab80fd0>, <__main__.ContaCorrente object at 0x7fc28ecd4a50>]\n",
            "[>>codigo 4321, saldo 1000<<]\n",
            "[>>codigo 1234, saldo 500<<]\n"
          ]
        }
      ]
    },
    {
      "cell_type": "markdown",
      "source": [
        ""
      ],
      "metadata": {
        "id": "14S8GLnCrOOL"
      }
    }
  ]
}