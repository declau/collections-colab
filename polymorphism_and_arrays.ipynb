{
  "nbformat": 4,
  "nbformat_minor": 0,
  "metadata": {
    "colab": {
      "name": "polymorphism_and_arrays.ipynb",
      "provenance": [],
      "authorship_tag": "ABX9TyMsxWox1S/lISj6540vwtlJ",
      "include_colab_link": true
    },
    "kernelspec": {
      "name": "python3",
      "display_name": "Python 3"
    },
    "language_info": {
      "name": "python"
    }
  },
  "cells": [
    {
      "cell_type": "markdown",
      "metadata": {
        "id": "view-in-github",
        "colab_type": "text"
      },
      "source": [
        "<a href=\"https://colab.research.google.com/github/declau/collections-colab/blob/main/polymorphism_and_arrays.ipynb\" target=\"_parent\"><img src=\"https://colab.research.google.com/assets/colab-badge.svg\" alt=\"Open In Colab\"/></a>"
      ]
    },
    {
      "cell_type": "markdown",
      "source": [
        "# ***# Herança e polimorfismo***"
      ],
      "metadata": {
        "id": "orjnXqtkYHtX"
      }
    },
    {
      "cell_type": "code",
      "source": [
        "class Conta:\n",
        "  def __init__(self,codigo):\n",
        "    self._codigo = codigo\n",
        "    self._saldo = 0\n",
        "\n",
        "  def deposita(self , valor):\n",
        "    self._saldo += valor\n",
        "\n",
        "  def __str__(self):\n",
        "    return f\"[Código: {self._codigo}, Saldo: {self._saldo}]\""
      ],
      "metadata": {
        "id": "Ws7WJC3nYOM0"
      },
      "execution_count": 2,
      "outputs": []
    },
    {
      "cell_type": "code",
      "source": [
        "print(Conta(88))"
      ],
      "metadata": {
        "colab": {
          "base_uri": "https://localhost:8080/"
        },
        "id": "t_IcoA06Znxh",
        "outputId": "39415cc0-d945-4032-ff04-235f7c775075"
      },
      "execution_count": 5,
      "outputs": [
        {
          "output_type": "stream",
          "name": "stdout",
          "text": [
            "[Código: 88, Saldo: 0]\n"
          ]
        }
      ]
    },
    {
      "cell_type": "code",
      "source": [
        "class ContaCorrente(Conta):\n",
        "  def passa_mes(self):\n",
        "    self._saldo -= 2\n",
        "\n",
        "class ContaPoupanca(Conta):\n",
        "  def passa_mes(self):\n",
        "    self._saldo *= 1.01\n",
        "    self._saldo -= 3\n",
        "\n",
        "conta16 = ContaCorrente(16)\n",
        "conta16.deposita(1000)\n",
        "conta16.passa_mes()\n",
        "print(conta16)\n",
        "\n",
        "conta17 = ContaPoupanca(17)\n",
        "conta17.deposita(1000)\n",
        "conta17.passa_mes()\n",
        "print(conta17)"
      ],
      "metadata": {
        "colab": {
          "base_uri": "https://localhost:8080/"
        },
        "id": "ak6aEUFwZ2tN",
        "outputId": "d82b709f-a33a-4e50-e1b8-bff71613e802"
      },
      "execution_count": 12,
      "outputs": [
        {
          "output_type": "stream",
          "name": "stdout",
          "text": [
            "[Código: 16, Saldo: 998]\n",
            "[Código: 17, Saldo: 1007.0]\n"
          ]
        }
      ]
    },
    {
      "cell_type": "code",
      "source": [
        "contas = [conta16, conta17]\n",
        "conta16 = ContaCorrente(16)\n",
        "conta16.deposita(1000)\n",
        "conta17 = ContaPoupanca(17)\n",
        "conta17.deposita(1000)\n",
        "\n",
        "for conta in contas:\n",
        "  conta.passa_mes()\n",
        "  print(conta)"
      ],
      "metadata": {
        "colab": {
          "base_uri": "https://localhost:8080/"
        },
        "id": "gIqEiShKb_Nn",
        "outputId": "848642a2-d15c-4d4c-a57c-4743f6a9b1d9"
      },
      "execution_count": 14,
      "outputs": [
        {
          "output_type": "stream",
          "name": "stdout",
          "text": [
            "[Código: 16, Saldo: 998]\n",
            "[Código: 17, Saldo: 1007.0]\n"
          ]
        }
      ]
    }
  ]
}